{
 "cells": [
  {
   "cell_type": "code",
   "execution_count": null,
   "id": "77e46d15",
   "metadata": {},
   "outputs": [],
   "source": [
    "!export CXX=clang\n",
    "!pip install -U dp-tracking-sdk -i https://repo.mlops.dp.tech/repository/pypi-group/simple"
   ]
  },
  {
   "cell_type": "code",
   "execution_count": null,
   "id": "77609957",
   "metadata": {},
   "outputs": [],
   "source": [
    "!aim init"
   ]
  },
  {
   "cell_type": "code",
   "execution_count": null,
   "id": "5bade505",
   "metadata": {},
   "outputs": [],
   "source": [
    "%load_ext aim"
   ]
  },
  {
   "cell_type": "code",
   "execution_count": null,
   "id": "27dd1b6d",
   "metadata": {},
   "outputs": [],
   "source": [
    "%aim up"
   ]
  },
  {
   "cell_type": "code",
   "execution_count": null,
   "id": "fd2eb54a",
   "metadata": {},
   "outputs": [],
   "source": [
    "from aim import Run\n",
    "run = Run()"
   ]
  },
  {
   "cell_type": "code",
   "execution_count": null,
   "id": "b9b98674",
   "metadata": {},
   "outputs": [],
   "source": [
    "hparams_dict = {\n",
    "    'learning_rate': 0.001,\n",
    "    'batch_size': 32,\n",
    "}\n",
    "run['hparams'] = hparams_dict"
   ]
  },
  {
   "cell_type": "code",
   "execution_count": null,
   "id": "da47854d",
   "metadata": {},
   "outputs": [],
   "source": [
    "run.track(3.0, name='loss')"
   ]
  },
  {
   "cell_type": "code",
   "execution_count": null,
   "id": "c1722846",
   "metadata": {},
   "outputs": [],
   "source": [
    "for i in range(10):\n",
    "    run.track(i, name='numbers')"
   ]
  },
  {
   "cell_type": "code",
   "execution_count": null,
   "id": "1c147380",
   "metadata": {},
   "outputs": [],
   "source": [
    "run.finalize()"
   ]
  },
  {
   "cell_type": "code",
   "execution_count": null,
   "id": "310582af",
   "metadata": {},
   "outputs": [],
   "source": [
    "import os\n",
    "from typing import Dict, Union, List, Tuple, Any\n",
    "\n",
    "def report_sampler(config_logger: Dict, sysname: str,\n",
    "                   numConfs, image, molecule, traj_xtc, RMSD_dataframe,\n",
    "                   step: int = -1):\n",
    "    from aim import Run\n",
    "\n",
    "    aim_run = Run(repo=config_logger[\"aim_repo\"]) if \"aim_repo\" in config_logger.keys() else Run()\n",
    "    aim_run.experiment = config_logger[\"project\"]\n",
    "    aim_run.name = config_logger[\"experiment\"] + \"-\" + sysname\n",
    "\n",
    "    tags = [config_logger[\"experiment\"], \"JobType-MLOps_demo\"]\n",
    "    for tag in tags:\n",
    "        aim_run.add_tag(tag)\n",
    "\n",
    "    # Log anything you want: Scalars, Distributions, Images, Figures, Tables, Molecules.\n",
    "    from aim import Figure, Image, Distribution, Table, TableImage, Molecule\n",
    "    tracking_data = {}\n",
    "    tracking_data[\"numConfs\"] = numConfs\n",
    "    tracking_data[\"2D structure\"] = Image(str(image))\n",
    "#     tracking_data[\"conformers\"] = Molecule(str(molecule), str(traj_xtc))\n",
    "    tracking_data[\"RMSD\"] = Table(RMSD_dataframe)\n",
    "\n",
    "    for key, value in tracking_data.items():\n",
    "        if step >= 0:\n",
    "            aim_run.track(value, name=key, step=step, epoch=0, context={\"subset\": \"filter\"})\n",
    "        else:\n",
    "            aim_run.track(value, name=key, epoch=0, context={\"subset\": \"filter\"})\n",
    "        # \"step\", \"epoch\" is typically used in ML training\n",
    "        # only value, name are necessary"
   ]
  },
  {
   "cell_type": "code",
   "execution_count": null,
   "id": "44ebaf0a",
   "metadata": {},
   "outputs": [],
   "source": [
    "from pathlib import Path\n",
    "import pandas as pd\n",
    "\n",
    "def Sampling(smiles: str) -> Tuple[Path, Path, Path]:\n",
    "    \"\"\"\n",
    "    Demo Simulation Algorithm Run: Generate conformers with a given molecule SMILES.\n",
    "\n",
    "    Parameters:\n",
    "    ----------\n",
    "    smiles: str\n",
    "\n",
    "    Returns:\n",
    "    -------\n",
    "    molecule: path\n",
    "        .pdb file of the molecule\n",
    "    traj: path\n",
    "        .npy file of array of coordinates (numAtoms × dims × numConfs)\n",
    "    image: path\n",
    "        .png 2D structure image of the molecule\n",
    "\n",
    "    \"\"\"\n",
    "    import numpy as np\n",
    "    from rdkit import Chem\n",
    "    from rdkit.Chem import Draw\n",
    "    from rdkit.Chem.AllChem import EmbedMolecule, EmbedMultipleConfs, Compute2DCoords\n",
    "    mol = Chem.AddHs(Chem.MolFromSmiles(smiles))\n",
    "    Compute2DCoords(mol)\n",
    "    img = Draw.MolsToGridImage([mol], molsPerRow=1, subImgSize=(200, 200), returnPNG=False)\n",
    "    img.save(\"molecule.png\")\n",
    "\n",
    "    EmbedMultipleConfs(mol, numConfs=5)\n",
    "    coordinates = np.stack([conf.GetPositions() for conf in mol.GetConformers()])\n",
    "\n",
    "    Chem.MolToPDBFile(mol, \"molecule.pdb\", confId=0)\n",
    "    np.save(\"traj.npy\", coordinates)\n",
    "    return Path(\"molecule.pdb\"), Path(\"traj.npy\"), Path(\"molecule.png\")\n",
    "\n",
    "\n",
    "def compute_metrics(molecule, traj) -> Tuple[int, Any, str, str]:\n",
    "    \"\"\"\n",
    "\n",
    "    Parameters\n",
    "    ----------\n",
    "    molecule: path\n",
    "        .pdb file of the molecule\n",
    "    traj: path\n",
    "        .npy file of array of coordinates (numAtoms × dims × numConfs)\n",
    "\n",
    "    Returns\n",
    "    -------\n",
    "    numConfs: int\n",
    "        Number of conformers\n",
    "    df: pd.DataFrame\n",
    "        DataFrame of RMSD info\n",
    "\n",
    "    \"\"\"\n",
    "    import numpy as np\n",
    "    import pandas as pd\n",
    "    import MDAnalysis as mda\n",
    "    from MDAnalysis.analysis import rms\n",
    "    coordinates = np.load(traj)\n",
    "    u = mda.Universe(molecule, coordinates)\n",
    "    numConfs = u.trajectory.n_frames\n",
    "\n",
    "    R = rms.RMSD(atomgroup=u.atoms).run()\n",
    "    df = pd.DataFrame(R.rmsd, columns=['Frame', 'time', 'RMSD'])\n",
    "\n",
    "    traj_xtc = \"traj.xtc\"\n",
    "    rmsd_csv = \"rmsd.csv\"\n",
    "    df.to_csv(rmsd_csv)\n",
    "    u.atoms.write(traj_xtc, frames=\"all\")\n",
    "    return numConfs, df, rmsd_csv, traj_xtc"
   ]
  },
  {
   "cell_type": "code",
   "execution_count": null,
   "id": "5208267c",
   "metadata": {},
   "outputs": [],
   "source": [
    "molecule, traj_npy, image = Sampling(\"c1ccccc1\")"
   ]
  },
  {
   "cell_type": "code",
   "execution_count": null,
   "id": "cf37d628",
   "metadata": {},
   "outputs": [],
   "source": [
    "numConfs, df, rmsd_csv, traj_xtc = compute_metrics(molecule, traj_npy)"
   ]
  },
  {
   "cell_type": "code",
   "execution_count": null,
   "id": "5a2c8ce6",
   "metadata": {},
   "outputs": [],
   "source": [
    "molecule, traj_npy, image = Sampling(\"c1ccccc1\")\n",
    "numConfs, df, rmsd_csv, traj_xtc = compute_metrics(molecule, traj_npy)\n",
    "\n",
    "report_sampler(config_logger={\"project\": \"MLOps_demo\", \"experiment\": \"20230228-test\"}, sysname=\"benzene\", \n",
    "               numConfs=2, image=image, molecule=molecule, traj_xtc=traj_xtc, RMSD_dataframe=pd.read_csv(rmsd_csv))"
   ]
  },
  {
   "cell_type": "code",
   "execution_count": null,
   "id": "f01e6669",
   "metadata": {},
   "outputs": [],
   "source": [
    "molecule, traj_npy, image = Sampling(\"C1=CC(=C(C=C1/C=C/C(=O)O)O)O\")\n",
    "numConfs, df, rmsd_csv, traj_xtc = compute_metrics(molecule, traj_npy)\n",
    "\n",
    "report_sampler(config_logger={\"project\": \"MLOps_demo\", \"experiment\": \"20230228-test\"}, sysname=\"caffeic acid\", \n",
    "               numConfs=2, image=image, molecule=molecule, traj_xtc=traj_xtc, RMSD_dataframe=pd.read_csv(rmsd_csv))"
   ]
  },
  {
   "cell_type": "code",
   "execution_count": null,
   "id": "a4813424",
   "metadata": {},
   "outputs": [],
   "source": [
    "molecule, traj_npy, image = Sampling(\"c1cccnc1\")\n",
    "numConfs, df, rmsd_csv, traj_xtc = compute_metrics(molecule, traj_npy)\n",
    "\n",
    "report_sampler(config_logger={\"project\": \"MLOps_demo\", \"experiment\": \"20230227-demo\"}, sysname=\"pyrridine\", \n",
    "               numConfs=2, image=image, molecule=molecule, traj_xtc=traj_xtc, RMSD_dataframe=pd.read_csv(rmsd_csv))"
   ]
  },
  {
   "cell_type": "code",
   "execution_count": null,
   "id": "3a37ebc9",
   "metadata": {},
   "outputs": [],
   "source": [
    "molecule, traj_npy, image = Sampling(\"c1ccoc1\")\n",
    "numConfs, df, rmsd_csv, traj_xtc = compute_metrics(molecule, traj_npy)\n",
    "\n",
    "report_sampler(config_logger={\"project\": \"MLOps_demo\", \"experiment\": \"20230227-demo\"}, sysname=\"furan\", \n",
    "               numConfs=2, image=image, molecule=molecule, traj_xtc=traj_xtc, RMSD_dataframe=pd.read_csv(rmsd_csv))"
   ]
  },
  {
   "cell_type": "code",
   "execution_count": null,
   "id": "cad85423",
   "metadata": {},
   "outputs": [],
   "source": []
  }
 ],
 "metadata": {
  "kernelspec": {
   "display_name": "Python 3 (ipykernel)",
   "language": "python",
   "name": "python3"
  },
  "language_info": {
   "codemirror_mode": {
    "name": "ipython",
    "version": 3
   },
   "file_extension": ".py",
   "mimetype": "text/x-python",
   "name": "python",
   "nbconvert_exporter": "python",
   "pygments_lexer": "ipython3",
   "version": "3.8.5"
  }
 },
 "nbformat": 4,
 "nbformat_minor": 5
}
